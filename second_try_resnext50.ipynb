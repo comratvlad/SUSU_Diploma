{
 "cells": [
  {
   "cell_type": "code",
   "execution_count": 1,
   "metadata": {
    "pycharm": {
     "is_executing": false
    }
   },
   "outputs": [],
   "source": [
    "import numpy as np \n",
    "import pandas as pd\n",
    "\n",
    "from PIL import Image\n",
    "\n",
    "import torch\n",
    "import torch.nn as nn\n",
    "import torch.utils.data as D\n",
    "import torch.nn.functional as F\n",
    "\n",
    "import albumentations\n",
    "import torchvision\n",
    "from torchvision import transforms\n",
    "\n",
    "import tqdm\n",
    "\n",
    "from src.utils.metrics import accuracy\n",
    "from src.utils.data_loaders import ImagesDS\n",
    "from matplotlib import pyplot as plt\n",
    "from sklearn.model_selection import StratifiedKFold, KFold, train_test_split\n",
    "\n",
    "import warnings\n",
    "warnings.filterwarnings('ignore')"
   ]
  },
  {
   "cell_type": "code",
   "execution_count": 2,
   "metadata": {
    "pycharm": {
     "is_executing": false,
     "name": "#%%\n"
    }
   },
   "outputs": [],
   "source": [
    "%load_ext autoreload\n",
    "%autoreload 2\n",
    "%reload_ext autoreload"
   ]
  },
  {
   "cell_type": "code",
   "execution_count": 3,
   "metadata": {
    "pycharm": {
     "is_executing": false,
     "name": "#%%\n"
    }
   },
   "outputs": [],
   "source": [
    "path_data = '/home/marchevskiy/Data/other'\n",
    "device = 'cuda'\n",
    "batch_size = 16"
   ]
  },
  {
   "cell_type": "markdown",
   "metadata": {},
   "source": [
    "Data"
   ]
  },
  {
   "cell_type": "code",
   "execution_count": 4,
   "metadata": {},
   "outputs": [],
   "source": [
    "transforms_train = albumentations.Compose([\n",
    "    # albumentations.RandomCrop(height=334, width=334, p=1),\n",
    "    albumentations.ShiftScaleRotate(shift_limit=0.1, scale_limit=0.1, rotate_limit=0, p=0.3),\n",
    "    albumentations.RandomRotate90(p=0.3),\n",
    "    albumentations.Flip(p=0.3),\n",
    "    # albumentations.ElasticTransform(alpha=0.5, sigma=25, alpha_affine=25, p=0.3),\n",
    "    # albumentations.RandomBrightness(limit=0.3, p=0.3),\n",
    "    # albumentations.RandomContrast(limit=0.15, p=0.3),\n",
    "    albumentations.Normalize(\n",
    "     mean=[0.01639522, 0.06704897, 0.0366343 , 0.03555733, 0.02223296, 0.03011626],\n",
    "     std=[0.01954379, 0.05231356, 0.01980171, 0.02657354, 0.01802711, 0.01548923])\n",
    "])\n",
    "\n",
    "transforms_test = albumentations.Compose([\n",
    "    # albumentations.RandomCrop(height=334, width=334, p=1),\n",
    "    albumentations.Normalize(\n",
    "     mean=[0.01639522, 0.06704897, 0.0366343 , 0.03555733, 0.02223296, 0.03011626],\n",
    "     std=[0.01954379, 0.05231356, 0.01980171, 0.02657354, 0.01802711, 0.01548923])\n",
    "])"
   ]
  },
  {
   "cell_type": "code",
   "execution_count": 29,
   "metadata": {
    "pycharm": {
     "is_executing": false,
     "name": "#%%\n"
    }
   },
   "outputs": [],
   "source": [
    "ds = ImagesDS(pd.read_csv(path_data+'/train.csv'), path_data, transforms_train, mode='train')\n",
    "ds_test = ImagesDS(pd.read_csv(path_data+'/test.csv'), path_data, transforms_test, mode='test')\n",
    "\n",
    "loader = D.DataLoader(ds, batch_size=batch_size, shuffle=True, num_workers=4)\n",
    "tloader = D.DataLoader(ds_test, batch_size=batch_size, shuffle=False, num_workers=4)"
   ]
  },
  {
   "cell_type": "markdown",
   "metadata": {},
   "source": [
    "Model"
   ]
  },
  {
   "cell_type": "code",
   "execution_count": 5,
   "metadata": {},
   "outputs": [],
   "source": [
    "class ResNext50(nn.Module):\n",
    "    def __init__(self, num_classes=1108):\n",
    "        super().__init__()\n",
    "        preloaded = torchvision.models.resnext50_32x4d(pretrained=True)\n",
    "        preloaded.conv1 = nn.Conv2d(6, 64, kernel_size=(7, 7), stride=(2, 2), padding=(3, 3), bias=False)\n",
    "        preloaded.fc = nn.Linear(2048, num_classes, bias=True)\n",
    "        self.features = nn.Sequential(*list(preloaded.children())[:-2])\n",
    "        self.dp1 = nn.Dropout(0.6)\n",
    "        self.classifier = nn.Linear(2048, num_classes, bias=True)\n",
    "        del preloaded\n",
    "        \n",
    "    def forward(self, x):\n",
    "        features = self.features(x)\n",
    "        out = F.adaptive_avg_pool2d(features, (1, 1)).view(features.size(0), -1)\n",
    "        out = self.dp1(out)\n",
    "        out = self.classifier(out)\n",
    "        return out"
   ]
  },
  {
   "cell_type": "code",
   "execution_count": 38,
   "metadata": {},
   "outputs": [],
   "source": [
    "model = ResNext50()\n",
    "model.load_state_dict(torch.load('../../data/resnext50_v1(d05(384)).pth'))\n",
    "model.to(device);"
   ]
  },
  {
   "cell_type": "markdown",
   "metadata": {},
   "source": [
    "Learning"
   ]
  },
  {
   "cell_type": "code",
   "execution_count": 32,
   "metadata": {
    "collapsed": true
   },
   "outputs": [
    {
     "data": {
      "application/vnd.jupyter.widget-view+json": {
       "model_id": "9b3aa01a65964506be5a7a29f64df1ca",
       "version_major": 2,
       "version_minor": 0
      },
      "text/plain": [
       "HBox(children=(IntProgress(value=0, max=2609), HTML(value='')))"
      ]
     },
     "metadata": {},
     "output_type": "display_data"
    },
    {
     "name": "stdout",
     "output_type": "stream",
     "text": [
      "\n"
     ]
    },
    {
     "ename": "KeyboardInterrupt",
     "evalue": "",
     "output_type": "error",
     "traceback": [
      "\u001b[0;31m---------------------------------------------------------------------------\u001b[0m",
      "\u001b[0;31mKeyboardInterrupt\u001b[0m                         Traceback (most recent call last)",
      "\u001b[0;32m<ipython-input-32-6a17330be002>\u001b[0m in \u001b[0;36m<module>\u001b[0;34m\u001b[0m\n\u001b[1;32m      7\u001b[0m     \u001b[0mtloss\u001b[0m \u001b[0;34m=\u001b[0m \u001b[0;36m0\u001b[0m\u001b[0;34m\u001b[0m\u001b[0;34m\u001b[0m\u001b[0m\n\u001b[1;32m      8\u001b[0m     \u001b[0macc\u001b[0m \u001b[0;34m=\u001b[0m \u001b[0mnp\u001b[0m\u001b[0;34m.\u001b[0m\u001b[0mzeros\u001b[0m\u001b[0;34m(\u001b[0m\u001b[0;36m1\u001b[0m\u001b[0;34m)\u001b[0m\u001b[0;34m\u001b[0m\u001b[0;34m\u001b[0m\u001b[0m\n\u001b[0;32m----> 9\u001b[0;31m     \u001b[0;32mfor\u001b[0m \u001b[0mx\u001b[0m\u001b[0;34m,\u001b[0m \u001b[0my\u001b[0m \u001b[0;32min\u001b[0m \u001b[0mtqdm\u001b[0m\u001b[0;34m.\u001b[0m\u001b[0mtqdm_notebook\u001b[0m\u001b[0;34m(\u001b[0m\u001b[0mloader\u001b[0m\u001b[0;34m)\u001b[0m\u001b[0;34m:\u001b[0m\u001b[0;34m\u001b[0m\u001b[0;34m\u001b[0m\u001b[0m\n\u001b[0m\u001b[1;32m     10\u001b[0m         \u001b[0mx\u001b[0m \u001b[0;34m=\u001b[0m \u001b[0mx\u001b[0m\u001b[0;34m.\u001b[0m\u001b[0mto\u001b[0m\u001b[0;34m(\u001b[0m\u001b[0mdevice\u001b[0m\u001b[0;34m)\u001b[0m\u001b[0;34m\u001b[0m\u001b[0;34m\u001b[0m\u001b[0m\n\u001b[1;32m     11\u001b[0m         \u001b[0moptimizer\u001b[0m\u001b[0;34m.\u001b[0m\u001b[0mzero_grad\u001b[0m\u001b[0;34m(\u001b[0m\u001b[0;34m)\u001b[0m\u001b[0;34m\u001b[0m\u001b[0;34m\u001b[0m\u001b[0m\n",
      "\u001b[0;31mKeyboardInterrupt\u001b[0m: "
     ]
    }
   ],
   "source": [
    "criterion = nn.BCEWithLogitsLoss()\n",
    "optimizer = torch.optim.Adam(model.parameters(), lr=30e-4)\n",
    "\n",
    "epochs = 40\n",
    "tlen = len(loader)\n",
    "for epoch in range(epochs):\n",
    "    tloss = 0\n",
    "    acc = np.zeros(1)\n",
    "    for x, y in tqdm.tqdm_notebook(loader):\n",
    "        x = x.to(device)\n",
    "        optimizer.zero_grad()\n",
    "        output = model(x)\n",
    "        target = torch.zeros_like(output, device=device)\n",
    "        target[np.arange(x.size(0)), y] = 1\n",
    "        loss = criterion(output, target)\n",
    "        loss.backward()\n",
    "        optimizer.step()\n",
    "        tloss += loss.item() \n",
    "        acc += accuracy(output.cpu(), y)\n",
    "        del loss, output, y, x, target\n",
    "    if epoch > 10:\n",
    "        optimizer.param_groups[0]['lr'] = 15e-4\n",
    "    if epoch > 20:\n",
    "        optimizer.param_groups[0]['lr'] = 7.5e-4\n",
    "    if epoch > 25:\n",
    "        optimizer.param_groups[0]['lr'] = 3e-4\n",
    "    if epoch > 35:\n",
    "        optimizer.param_groups[0]['lr'] = 1e-4\n",
    "    print('Epoch {} -> Train Loss: {:.4f}, ACC: {:.2f}%'.format(epoch+1, tloss/tlen, acc[0]/tlen))"
   ]
  },
  {
   "cell_type": "code",
   "execution_count": null,
   "metadata": {},
   "outputs": [],
   "source": [
    "criterion = nn.BCEWithLogitsLoss()\n",
    "optimizer = torch.optim.Adam(model.parameters(), lr=30e-5)\n",
    "\n",
    "epochs = 1\n",
    "tlen = len(loader)\n",
    "for epoch in range(epochs):\n",
    "    tloss = 0\n",
    "    acc = np.zeros(1)\n",
    "    model.train()\n",
    "    for x, y in tqdm.tqdm_notebook(loader):\n",
    "        x = x.to(device)\n",
    "        optimizer.zero_grad()\n",
    "        output = model(x)\n",
    "        target = torch.zeros_like(output, device=device)\n",
    "        target[np.arange(x.size(0)), y] = 1\n",
    "        loss = criterion(output, target)\n",
    "        loss.backward()\n",
    "        optimizer.step()\n",
    "        tloss += loss.item() \n",
    "        acc += accuracy(output.cpu(), y)\n",
    "        del loss, output, y, x, target\n",
    "    print('Epoch {} -> Train Loss: {:.4f}, ACC: {:.2f}%'.format(epoch+1, tloss/tlen, acc[0]/tlen))"
   ]
  },
  {
   "cell_type": "code",
   "execution_count": null,
   "metadata": {},
   "outputs": [],
   "source": [
    "torch.save(model.state_dict(), '../../data/resnext50_v1(d05(384)).pth')"
   ]
  },
  {
   "cell_type": "markdown",
   "metadata": {},
   "source": [
    "K-fold"
   ]
  },
  {
   "cell_type": "code",
   "execution_count": 6,
   "metadata": {},
   "outputs": [],
   "source": [
    "train_df = pd.read_csv(path_data+'/train.csv')\n",
    "train_df_HEPG2 = train_df[train_df['experiment'].isin(['HEPG2-01', 'HEPG2-02', 'HEPG2-03', 'HEPG2-04', 'HEPG2-05',\n",
    "                                                       'HEPG2-06', 'HEPG2-07'])]"
   ]
  },
  {
   "cell_type": "code",
   "execution_count": 7,
   "metadata": {},
   "outputs": [],
   "source": [
    "n_folds = 4\n",
    "folds = StratifiedKFold(n_splits=n_folds, shuffle=True, random_state=0)\n",
    "fold = folds.split(train_df_HEPG2, train_df_HEPG2['sirna'])"
   ]
  },
  {
   "cell_type": "code",
   "execution_count": 8,
   "metadata": {},
   "outputs": [],
   "source": [
    "model = ResNext50()\n",
    "model.to(device);"
   ]
  },
  {
   "cell_type": "code",
   "execution_count": null,
   "metadata": {
    "scrolled": true
   },
   "outputs": [
    {
     "data": {
      "application/vnd.jupyter.widget-view+json": {
       "model_id": "28e47882e8ba4329bc3ccf805c82a16b",
       "version_major": 2,
       "version_minor": 0
      },
      "text/plain": [
       "HBox(children=(IntProgress(value=0, max=692), HTML(value='')))"
      ]
     },
     "metadata": {},
     "output_type": "display_data"
    },
    {
     "name": "stdout",
     "output_type": "stream",
     "text": [
      "\n",
      "Epoch 1 -> Train Loss: 0.0027, ACC: 64.32%\n"
     ]
    }
   ],
   "source": [
    "for fold_, (train_index, val_index) in enumerate(fold):\n",
    "    best_val_acc = 0\n",
    "    ds_train = ImagesDS(train_df_HEPG2.iloc[train_index,:], path_data, None, transforms_train, mode='train')\n",
    "    loader_train = D.DataLoader(ds_train, batch_size=batch_size, shuffle=True, num_workers=4)\n",
    "    ds_valid = ImagesDS(train_df_HEPG2.iloc[val_index,:], path_data, None, transforms_train, mode='train')\n",
    "    loader_valid = D.DataLoader(ds_valid, batch_size=batch_size, shuffle=False, num_workers=4)\n",
    "    \n",
    "    model.load_state_dict(torch.load('../../data/resnext50_v1(d05(384)).pth'))\n",
    "\n",
    "    criterion = nn.BCEWithLogitsLoss()\n",
    "    optimizer = torch.optim.Adam(model.parameters(), lr=30e-5)\n",
    "\n",
    "    epochs = 20\n",
    "    for epoch in range(epochs):\n",
    "        tloss = 0\n",
    "        acc = np.zeros(1)\n",
    "        tlen = len(loader_train)\n",
    "        model.train()\n",
    "        for x, y in tqdm.tqdm_notebook(loader_train):\n",
    "            x = x.to(device)\n",
    "            optimizer.zero_grad()\n",
    "            output = model(x)\n",
    "            target = torch.zeros_like(output, device=device)\n",
    "            target[np.arange(x.size(0)), y] = 1\n",
    "            loss = criterion(output, target)\n",
    "            loss.backward()\n",
    "            optimizer.step()\n",
    "            tloss += loss.item() \n",
    "            acc += accuracy(output.cpu(), y)\n",
    "            del loss, output, y, x, target\n",
    "        if epoch > 5:\n",
    "            optimizer.param_groups[0]['lr'] = 15e-5\n",
    "        if epoch > 10:\n",
    "            optimizer.param_groups[0]['lr'] = 7.5e-5\n",
    "        if epoch > 15:\n",
    "            optimizer.param_groups[0]['lr'] = 3e-5\n",
    "        print('Epoch {} -> Train Loss: {:.4f}, ACC: {:.2f}%'.format(epoch+1, tloss/tlen, acc[0]/tlen))\n",
    "        \n",
    "        acc = np.zeros(1)\n",
    "        tlen = len(loader_valid)\n",
    "        model.eval()\n",
    "        for x, y in loader_valid:\n",
    "            x = x.to(device)\n",
    "            output = model(x)\n",
    "            target = torch.zeros_like(output, device=device)\n",
    "            target[np.arange(x.size(0)), y] = 1\n",
    "            acc += accuracy(output.cpu(), y)\n",
    "            del output, y, x, target\n",
    "        print('Epoch {} -> Valid ACC: {:.2f}%'.format(epoch+1, acc[0]/tlen))\n",
    "        \n",
    "        if (acc[0]/tlen) > best_val_acc:\n",
    "            torch.save(model.state_dict(), '../../data/resnext50_v1(d05(512))_HEPG2_fold{}.pth'.format(fold_))\n",
    "            best_val_acc = acc[0]/tlen"
   ]
  },
  {
   "cell_type": "code",
   "execution_count": null,
   "metadata": {},
   "outputs": [],
   "source": [
    "train_df = pd.read_csv(path_data+'/train.csv')\n",
    "train_df_U2OS = train_df[train_df['experiment'].isin(['U2OS-01', 'UHUVEC-012OS-02', 'U2OS-03'])]"
   ]
  },
  {
   "cell_type": "code",
   "execution_count": null,
   "metadata": {},
   "outputs": [],
   "source": [
    "n_folds = 4\n",
    "folds = KFold(n_splits=n_folds, shuffle=True, random_state=0)\n",
    "fold = folds.split(train_df_U2OS, train_df_U2OS['sirna'])"
   ]
  },
  {
   "cell_type": "code",
   "execution_count": null,
   "metadata": {},
   "outputs": [],
   "source": [
    "for fold_, (train_index, val_index) in enumerate(fold):\n",
    "    best_val_acc = 0\n",
    "    ds_train = ImagesDS(train_df_U2OS.iloc[train_index,:], path_data, None, transforms_train, mode='train')\n",
    "    loader_train = D.DataLoader(ds_train, batch_size=batch_size, shuffle=True, num_workers=4)\n",
    "    ds_valid = ImagesDS(train_df_U2OS.iloc[val_index,:], path_data, None, transforms_train, mode='train')\n",
    "    loader_valid = D.DataLoader(ds_valid, batch_size=batch_size, shuffle=False, num_workers=4)\n",
    "    \n",
    "    model.load_state_dict(torch.load('../../data/resnext50_v1(d05(384)).pth'))\n",
    "\n",
    "    criterion = nn.BCEWithLogitsLoss()\n",
    "    optimizer = torch.optim.Adam(model.parameters(), lr=30e-5)\n",
    "\n",
    "    epochs = 20\n",
    "    for epoch in range(epochs):\n",
    "        tloss = 0\n",
    "        acc = np.zeros(1)\n",
    "        tlen = len(loader_train)\n",
    "        model.train()\n",
    "        for x, y in tqdm.tqdm_notebook(loader_train):\n",
    "            x = x.to(device)\n",
    "            optimizer.zero_grad()\n",
    "            output = model(x)\n",
    "            target = torch.zeros_like(output, device=device)\n",
    "            target[np.arange(x.size(0)), y] = 1\n",
    "            loss = criterion(output, target)\n",
    "            loss.backward()\n",
    "            optimizer.step()\n",
    "            tloss += loss.item() \n",
    "            acc += accuracy(output.cpu(), y)\n",
    "            del loss, output, y, x, target\n",
    "        if epoch > 5:\n",
    "            optimizer.param_groups[0]['lr'] = 15e-5\n",
    "        if epoch > 10:\n",
    "            optimizer.param_groups[0]['lr'] = 7.5e-5\n",
    "        if epoch > 15:\n",
    "            optimizer.param_groups[0]['lr'] = 3e-5\n",
    "        print('Epoch {} -> Train Loss: {:.4f}, ACC: {:.2f}%'.format(epoch+1, tloss/tlen, acc[0]/tlen))\n",
    "        \n",
    "        acc = np.zeros(1)\n",
    "        tlen = len(loader_valid)\n",
    "        model.eval()\n",
    "        for x, y in loader_valid:\n",
    "            x = x.to(device)\n",
    "            output = model(x)\n",
    "            target = torch.zeros_like(output, device=device)\n",
    "            target[np.arange(x.size(0)), y] = 1\n",
    "            acc += accuracy(output.cpu(), y)\n",
    "            del output, y, x, target\n",
    "        print('Epoch {} -> Valid ACC: {:.2f}%'.format(epoch+1, acc[0]/tlen))\n",
    "        if (acc[0]/tlen) > best_val_acc:\n",
    "            torch.save(model.state_dict(), '../../data/resnext50_v1(d05(512))_U2OS_fold{}.pth'.format(fold_))\n",
    "            best_val_acc = acc[0]/tlen"
   ]
  },
  {
   "cell_type": "code",
   "execution_count": null,
   "metadata": {},
   "outputs": [],
   "source": [
    "train_df = pd.read_csv(path_data+'/train.csv')\n",
    "train_df_HUVEC = train_df[train_df['experiment'].isin(['HUVEC-01', 'HUVEC-02', 'HUVEC-03', 'HUVEC-04',\n",
    "                                                     'HUVEC-05', 'HUVEC-06', 'HUVEC-07', 'HUVEC-08',\n",
    "                                                     'HUVEC-09', 'HUVEC-10', 'HUVEC-11', 'HUVEC-12',\n",
    "                                                     'HUVEC-13', 'HUVEC-14', 'HUVEC-15', 'HUVEC-16'])]"
   ]
  },
  {
   "cell_type": "code",
   "execution_count": null,
   "metadata": {},
   "outputs": [],
   "source": [
    "n_folds = 4\n",
    "folds = StratifiedKFold(n_splits=n_folds, shuffle=True, random_state=0)\n",
    "fold = folds.split(train_df_HUVEC, train_df_HUVEC['sirna'])"
   ]
  },
  {
   "cell_type": "code",
   "execution_count": null,
   "metadata": {},
   "outputs": [],
   "source": [
    "for fold_, (train_index, val_index) in enumerate(fold):\n",
    "    best_val_acc = 0\n",
    "    ds_train = ImagesDS(train_df_HUVEC.iloc[train_index,:], path_data, None, transforms_train, mode='train')\n",
    "    loader_train = D.DataLoader(ds_train, batch_size=batch_size, shuffle=True, num_workers=4)\n",
    "    ds_valid = ImagesDS(train_df_HUVEC.iloc[val_index,:], path_data, None, transforms_train, mode='train')\n",
    "    loader_valid = D.DataLoader(ds_valid, batch_size=batch_size, shuffle=False, num_workers=4)\n",
    "    \n",
    "    model.load_state_dict(torch.load('../../data/resnext50_v1(d05(384)).pth'))\n",
    "\n",
    "    criterion = nn.BCEWithLogitsLoss()\n",
    "    optimizer = torch.optim.Adam(model.parameters(), lr=30e-5)\n",
    "\n",
    "    epochs = 20\n",
    "    for epoch in range(epochs):\n",
    "        tloss = 0\n",
    "        acc = np.zeros(1)\n",
    "        tlen = len(loader_train)\n",
    "        model.train()\n",
    "        for x, y in tqdm.tqdm_notebook(loader_train):\n",
    "            x = x.to(device)\n",
    "            optimizer.zero_grad()\n",
    "            output = model(x)\n",
    "            target = torch.zeros_like(output, device=device)\n",
    "            target[np.arange(x.size(0)), y] = 1\n",
    "            loss = criterion(output, target)\n",
    "            loss.backward()\n",
    "            optimizer.step()\n",
    "            tloss += loss.item() \n",
    "            acc += accuracy(output.cpu(), y)\n",
    "            del loss, output, y, x, target\n",
    "        if epoch > 5:\n",
    "            optimizer.param_groups[0]['lr'] = 15e-5\n",
    "        if epoch > 10:\n",
    "            optimizer.param_groups[0]['lr'] = 7.5e-5\n",
    "        if epoch > 15:\n",
    "            optimizer.param_groups[0]['lr'] = 3e-5\n",
    "        print('Epoch {} -> Train Loss: {:.4f}, ACC: {:.2f}%'.format(epoch+1, tloss/tlen, acc[0]/tlen))\n",
    "        \n",
    "        acc = np.zeros(1)\n",
    "        tlen = len(loader_valid)\n",
    "        model.eval()\n",
    "        for x, y in loader_valid:\n",
    "            x = x.to(device)\n",
    "            output = model(x)\n",
    "            target = torch.zeros_like(output, device=device)\n",
    "            target[np.arange(x.size(0)), y] = 1\n",
    "            acc += accuracy(output.cpu(), y)\n",
    "            del output, y, x, target\n",
    "        print('Epoch {} -> Valid ACC: {:.2f}%'.format(epoch+1, acc[0]/tlen))\n",
    "        if (acc[0]/tlen) > best_val_acc:\n",
    "            torch.save(model.state_dict(), '../../data/resnext50_v1(d05(512))_HUVEC_fold{}.pth'.format(fold_))\n",
    "            best_val_acc = acc[0]/tlen"
   ]
  },
  {
   "cell_type": "code",
   "execution_count": null,
   "metadata": {},
   "outputs": [],
   "source": [
    "train_df = pd.read_csv(path_data+'/train.csv')\n",
    "train_df_RPE = train_df[train_df['experiment'].isin(['RPE-01', 'RPE-02', 'RPE-03', 'RPE-04',\n",
    "                                                     'RPE-05', 'RPE-06', 'RPE-07'])]"
   ]
  },
  {
   "cell_type": "code",
   "execution_count": null,
   "metadata": {},
   "outputs": [],
   "source": [
    "n_folds = 4\n",
    "folds = StratifiedKFold(n_splits=n_folds, shuffle=True, random_state=0)\n",
    "fold = folds.split(train_df_RPE, train_df_RPE['sirna'])"
   ]
  },
  {
   "cell_type": "code",
   "execution_count": null,
   "metadata": {},
   "outputs": [],
   "source": [
    "for fold_, (train_index, val_index) in enumerate(fold):\n",
    "    best_val_acc = 0\n",
    "    ds_train = ImagesDS(train_df_RPE.iloc[train_index,:], path_data, None, transforms_train, mode='train')\n",
    "    loader_train = D.DataLoader(ds_train, batch_size=batch_size, shuffle=True, num_workers=4)\n",
    "    ds_valid = ImagesDS(train_df_RPE.iloc[val_index,:], path_data, None, transforms_train, mode='train')\n",
    "    loader_valid = D.DataLoader(ds_valid, batch_size=batch_size, shuffle=False, num_workers=4)\n",
    "    \n",
    "    model.load_state_dict(torch.load('../../data/resnext50_v1(d05(384)).pth'))\n",
    "\n",
    "    criterion = nn.BCEWithLogitsLoss()\n",
    "    optimizer = torch.optim.Adam(model.parameters(), lr=30e-5)\n",
    "\n",
    "    epochs = 40\n",
    "    for epoch in range(epochs):\n",
    "        tloss = 0\n",
    "        acc = np.zeros(1)\n",
    "        tlen = len(loader_train)\n",
    "        model.train()\n",
    "        for x, y in tqdm.tqdm_notebook(loader_train):\n",
    "            x = x.to(device)\n",
    "            optimizer.zero_grad()\n",
    "            output = model(x)\n",
    "            target = torch.zeros_like(output, device=device)\n",
    "            target[np.arange(x.size(0)), y] = 1\n",
    "            loss = criterion(output, target)\n",
    "            loss.backward()\n",
    "            optimizer.step()\n",
    "            tloss += loss.item() \n",
    "            acc += accuracy(output.cpu(), y)\n",
    "            del loss, output, y, x, target\n",
    "        if epoch > 5:\n",
    "            optimizer.param_groups[0]['lr'] = 15e-5\n",
    "        if epoch > 10:\n",
    "            optimizer.param_groups[0]['lr'] = 7.5e-5\n",
    "        if epoch > 15:\n",
    "            optimizer.param_groups[0]['lr'] = 3e-5\n",
    "        print('Epoch {} -> Train Loss: {:.4f}, ACC: {:.2f}%'.format(epoch+1, tloss/tlen, acc[0]/tlen))\n",
    "        \n",
    "        acc = np.zeros(1)\n",
    "        tlen = len(loader_valid)\n",
    "        model.eval()\n",
    "        for x, y in loader_valid:\n",
    "            x = x.to(device)\n",
    "            output = model(x)\n",
    "            target = torch.zeros_like(output, device=device)\n",
    "            target[np.arange(x.size(0)), y] = 1\n",
    "            acc += accuracy(output.cpu(), y)\n",
    "            del output, y, x, target\n",
    "        print('Epoch {} -> Valid ACC: {:.2f}%'.format(epoch+1, acc[0]/tlen))\n",
    "        if (acc[0]/tlen) > best_val_acc:\n",
    "            torch.save(model.state_dict(), '../../data/resnext50_v1(d05(512))_RPE_fold{}.pth'.format(fold_))\n",
    "            best_val_acc = acc[0]/tlen"
   ]
  },
  {
   "cell_type": "markdown",
   "metadata": {},
   "source": [
    "Submission"
   ]
  },
  {
   "cell_type": "code",
   "execution_count": 13,
   "metadata": {},
   "outputs": [],
   "source": [
    "model.eval()\n",
    "\n",
    "@torch.no_grad()\n",
    "def prediction(model, loader):\n",
    "    outputs = []\n",
    "    preds = np.empty(0)\n",
    "    for x, _ in loader: \n",
    "        x = x.to(device)\n",
    "        output = model(x)\n",
    "        outputs.append(output)\n",
    "        idx = output.max(dim=-1)[1].cpu().numpy()\n",
    "        preds = np.append(preds, idx, axis=0)\n",
    "    return preds, outputs\n",
    "\n",
    "preds1, outputs1 = prediction(model, tloader)"
   ]
  },
  {
   "cell_type": "code",
   "execution_count": 14,
   "metadata": {},
   "outputs": [],
   "source": [
    "preds = ((torch.cat(outputs1)+torch.cat(outputs2)+torch.cat(outputs3)+torch.cat(outputs4)) / 4.).max(dim=-1)[1].cpu().numpy()"
   ]
  },
  {
   "cell_type": "code",
   "execution_count": 15,
   "metadata": {},
   "outputs": [],
   "source": [
    "submission = pd.read_csv(path_data + '/test.csv')\n",
    "submission['sirna'] = preds.astype(int)\n",
    "submission.to_csv('submission.csv', index=False, columns=['id_code','sirna'])"
   ]
  },
  {
   "cell_type": "markdown",
   "metadata": {},
   "source": [
    "---"
   ]
  }
 ],
 "metadata": {
  "kernelspec": {
   "display_name": "PyCharm (untitled)",
   "language": "python",
   "name": "pycharm-6fa63235"
  },
  "language_info": {
   "codemirror_mode": {
    "name": "ipython",
    "version": 3
   },
   "file_extension": ".py",
   "mimetype": "text/x-python",
   "name": "python",
   "nbconvert_exporter": "python",
   "pygments_lexer": "ipython3",
   "version": "3.7.3"
  },
  "pycharm": {
   "stem_cell": {
    "cell_type": "raw",
    "metadata": {
     "collapsed": false
    },
    "source": []
   }
  }
 },
 "nbformat": 4,
 "nbformat_minor": 1
}
