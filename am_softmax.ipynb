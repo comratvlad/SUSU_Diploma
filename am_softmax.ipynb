{
 "cells": [
  {
   "cell_type": "code",
   "execution_count": 1,
   "metadata": {},
   "outputs": [],
   "source": [
    "import numpy as np \n",
    "import pandas as pd\n",
    "\n",
    "from PIL import Image\n",
    "\n",
    "import torch\n",
    "import torch.nn as nn\n",
    "import torch.utils.data as D\n",
    "import torch.nn.functional as F\n",
    "\n",
    "import albumentations\n",
    "import torchvision\n",
    "from torchvision import transforms\n",
    "\n",
    "import timm\n",
    "import tqdm\n",
    "\n",
    "from src.losses import ArcMarginProduct\n",
    "from src.utils.metrics import accuracy\n",
    "from src.utils.data_loaders import ImagesDS\n",
    "from matplotlib import pyplot as plt\n",
    "from sklearn.model_selection import StratifiedKFold, KFold, train_test_split\n",
    "\n",
    "import warnings\n",
    "warnings.filterwarnings('ignore')"
   ]
  },
  {
   "cell_type": "code",
   "execution_count": 2,
   "metadata": {},
   "outputs": [],
   "source": [
    "%load_ext autoreload\n",
    "%autoreload 2\n",
    "%reload_ext autoreload"
   ]
  },
  {
   "cell_type": "code",
   "execution_count": 3,
   "metadata": {},
   "outputs": [],
   "source": [
    "path_data = '/home/marchevskiy/Data/other'\n",
    "device = 'cuda'\n",
    "batch_size = 16"
   ]
  },
  {
   "cell_type": "code",
   "execution_count": 4,
   "metadata": {},
   "outputs": [],
   "source": [
    "transforms_train = albumentations.Compose([\n",
    "    # albumentations.RandomCrop(height=334, width=334, p=1),\n",
    "    albumentations.ShiftScaleRotate(shift_limit=0.1, scale_limit=0.1, rotate_limit=0, p=0.3),\n",
    "    albumentations.RandomRotate90(p=0.3),\n",
    "    albumentations.Flip(p=0.3),\n",
    "    # albumentations.ElasticTransform(alpha=0.5, sigma=25, alpha_affine=25, p=0.3),\n",
    "    # albumentations.RandomBrightness(limit=0.3, p=0.3),\n",
    "    # albumentations.RandomContrast(limit=0.15, p=0.3),\n",
    "    albumentations.Normalize(\n",
    "     mean=[0.01639522, 0.06704897, 0.0366343 , 0.03555733, 0.02223296, 0.03011626],\n",
    "     std=[0.01954379, 0.05231356, 0.01980171, 0.02657354, 0.01802711, 0.01548923])\n",
    "])\n",
    "\n",
    "transforms_test = albumentations.Compose([\n",
    "    # albumentations.RandomCrop(height=334, width=334, p=1),\n",
    "    albumentations.Normalize(\n",
    "     mean=[0.01639522, 0.06704897, 0.0366343 , 0.03555733, 0.02223296, 0.03011626],\n",
    "     std=[0.01954379, 0.05231356, 0.01980171, 0.02657354, 0.01802711, 0.01548923])\n",
    "])"
   ]
  },
  {
   "cell_type": "code",
   "execution_count": 5,
   "metadata": {},
   "outputs": [],
   "source": [
    "ds = ImagesDS(pd.read_csv(path_data+'/train.csv'), path_data, None, transforms_train, mode='train')\n",
    "loader = D.DataLoader(ds, batch_size=batch_size, shuffle=True, num_workers=8)"
   ]
  },
  {
   "cell_type": "code",
   "execution_count": 6,
   "metadata": {},
   "outputs": [],
   "source": [
    "class ResNext50(nn.Module):\n",
    "    def __init__(self, num_classes=1108):\n",
    "        super().__init__()\n",
    "        preloaded = torchvision.models.resnext50_32x4d(pretrained=True)\n",
    "        preloaded.conv1 = nn.Conv2d(6, 64, kernel_size=(7, 7), stride=(2, 2), padding=(3, 3), bias=False)\n",
    "        preloaded.fc = nn.Linear(2048, num_classes, bias=True)\n",
    "        self.features = nn.Sequential(*list(preloaded.children())[:-2])\n",
    "        self.dp1 = nn.Dropout(0.6)\n",
    "        self.classifier = nn.Linear(2048, num_classes, bias=True)\n",
    "        del preloaded\n",
    "        \n",
    "    def forward(self, x):\n",
    "        features = self.features(x)\n",
    "        out = F.adaptive_avg_pool2d(features, (1, 1)).view(features.size(0), -1)\n",
    "        out = self.dp1(out)\n",
    "        out = self.classifier(out)\n",
    "        return out"
   ]
  },
  {
   "cell_type": "code",
   "execution_count": 7,
   "metadata": {},
   "outputs": [],
   "source": [
    "class ResNet50am(nn.Module):\n",
    "    def __init__(self, num_classes=1108):\n",
    "        super().__init__()\n",
    "        preloaded = ResNext50()\n",
    "        # preloaded.load_state_dict(torch.load('../../data/resnext50_v1(d05(384)).pth'))\n",
    "        self.features = nn.Sequential(*list(preloaded.children())[:-2])\n",
    "        self.fc1 = nn.Linear(4096, 512)\n",
    "        self.nl = AngleSimpleLinear(512, num_classes)\n",
    "        del preloaded\n",
    "        \n",
    "    def forward(self, x):\n",
    "        x = nn.BatchNorm2d(6)(x)\n",
    "        x = self.features(x)\n",
    "        x = torch.cat((nn.AdaptiveAvgPool2d(1)(x), nn.AdaptiveMaxPool2d(1)(x)), dim=1)\n",
    "        x = x.view(x.size(0), -1)\n",
    "        x = F.dropout(x, p=0.25)\n",
    "        x = self.fc1(x)\n",
    "        x = nn.ReLU()(x)\n",
    "        x = self.nl(x)\n",
    "        return x"
   ]
  },
  {
   "cell_type": "code",
   "execution_count": 10,
   "metadata": {
    "scrolled": true
   },
   "outputs": [],
   "source": [
    "model = ResNet50am()\n",
    "model.to(device);"
   ]
  },
  {
   "cell_type": "code",
   "execution_count": 12,
   "metadata": {},
   "outputs": [
    {
     "data": {
      "application/vnd.jupyter.widget-view+json": {
       "model_id": "55ea1ce0e61549c9910e1ec2d470fe34",
       "version_major": 2,
       "version_minor": 0
      },
      "text/plain": [
       "HBox(children=(IntProgress(value=0, max=4565), HTML(value='')))"
      ]
     },
     "metadata": {},
     "output_type": "display_data"
    },
    {
     "name": "stdout",
     "output_type": "stream",
     "text": [
      "\n",
      "Epoch 1 -> Train Loss: 19.6796, ACC: 65.53%\n"
     ]
    }
   ],
   "source": [
    "criterion = AMSoftmaxLoss()\n",
    "optimizer = torch.optim.Adam(model.parameters(), lr=30e-5)\n",
    "\n",
    "epochs = 1\n",
    "tlen = len(loader)\n",
    "for epoch in range(epochs):\n",
    "    model.train()\n",
    "    tloss = 0\n",
    "    acc = np.zeros(1)\n",
    "    for data in tqdm.tqdm_notebook(loader):\n",
    "        data_input, label = data\n",
    "        data_input = data_input.to(device)\n",
    "        label = label.to(device).long()\n",
    "        output = model(data_input)\n",
    "        loss = criterion(output, label)\n",
    "        tloss += loss.item() \n",
    "        optimizer.zero_grad()\n",
    "        loss.backward()\n",
    "        optimizer.step()\n",
    "        acc += accuracy(output.detach().cpu(), label.cpu())\n",
    "    print('Epoch {} -> Train Loss: {:.4f}, ACC: {:.2f}%'.format(epoch+1, tloss/tlen, acc[0]/tlen))"
   ]
  },
  {
   "cell_type": "code",
   "execution_count": 13,
   "metadata": {},
   "outputs": [
    {
     "data": {
      "application/vnd.jupyter.widget-view+json": {
       "model_id": "4ea463947c684905947c40ba88fc13f1",
       "version_major": 2,
       "version_minor": 0
      },
      "text/plain": [
       "HBox(children=(IntProgress(value=0, max=4565), HTML(value='')))"
      ]
     },
     "metadata": {},
     "output_type": "display_data"
    },
    {
     "name": "stdout",
     "output_type": "stream",
     "text": [
      "\n",
      "Epoch 1 -> Train Loss: 19.0773, ACC: 71.13%\n"
     ]
    }
   ],
   "source": [
    "for epoch in range(epochs):\n",
    "    model.train()\n",
    "    tloss = 0\n",
    "    acc = np.zeros(1)\n",
    "    for data in tqdm.tqdm_notebook(loader):\n",
    "        data_input, label = data\n",
    "        data_input = data_input.to(device)\n",
    "        label = label.to(device).long()\n",
    "        output = model(data_input)\n",
    "        loss = criterion(output, label)\n",
    "        tloss += loss.item() \n",
    "        optimizer.zero_grad()\n",
    "        loss.backward()\n",
    "        optimizer.step()\n",
    "        acc += accuracy(output.detach().cpu(), label.cpu())\n",
    "    print('Epoch {} -> Train Loss: {:.4f}, ACC: {:.2f}%'.format(epoch+1, tloss/tlen, acc[0]/tlen))"
   ]
  },
  {
   "cell_type": "code",
   "execution_count": 22,
   "metadata": {},
   "outputs": [],
   "source": [
    "torch.save(model.state_dict(), '../../data/resnext50_am.pth')"
   ]
  },
  {
   "cell_type": "code",
   "execution_count": 11,
   "metadata": {},
   "outputs": [],
   "source": [
    "model.load_state_dict(torch.load('../../data/resnext50_am.pth'));"
   ]
  },
  {
   "cell_type": "code",
   "execution_count": null,
   "metadata": {},
   "outputs": [],
   "source": []
  },
  {
   "cell_type": "code",
   "execution_count": 9,
   "metadata": {},
   "outputs": [],
   "source": [
    "train_df = pd.read_csv(path_data+'/train.csv')\n",
    "train_df_HEPG2 = train_df[train_df['experiment'].isin(['HEPG2-01', 'HEPG2-02', 'HEPG2-03', 'HEPG2-04', 'HEPG2-05',\n",
    "                                                       'HEPG2-06', 'HEPG2-07'])]"
   ]
  },
  {
   "cell_type": "code",
   "execution_count": 10,
   "metadata": {},
   "outputs": [],
   "source": [
    "n_folds = 4\n",
    "folds = StratifiedKFold(n_splits=n_folds, shuffle=True, random_state=0)\n",
    "fold = folds.split(train_df_HEPG2, train_df_HEPG2['sirna'])"
   ]
  },
  {
   "cell_type": "code",
   "execution_count": 11,
   "metadata": {},
   "outputs": [],
   "source": [
    "model = ResNet50am()\n",
    "model.to(device);"
   ]
  },
  {
   "cell_type": "code",
   "execution_count": 13,
   "metadata": {},
   "outputs": [
    {
     "data": {
      "application/vnd.jupyter.widget-view+json": {
       "model_id": "b01fd4b247094a2a966e0de806136cef",
       "version_major": 2,
       "version_minor": 0
      },
      "text/plain": [
       "HBox(children=(IntProgress(value=0, max=692), HTML(value='')))"
      ]
     },
     "metadata": {},
     "output_type": "display_data"
    },
    {
     "name": "stdout",
     "output_type": "stream",
     "text": [
      "\n",
      "Epoch 1 -> Train Loss: 20.1989, ACC: 58.21%\n",
      "Epoch 1 -> Valid ACC: 70.91%\n"
     ]
    },
    {
     "data": {
      "application/vnd.jupyter.widget-view+json": {
       "model_id": "7ae4f453d36047bfaf2206dce97ff1ec",
       "version_major": 2,
       "version_minor": 0
      },
      "text/plain": [
       "HBox(children=(IntProgress(value=0, max=692), HTML(value='')))"
      ]
     },
     "metadata": {},
     "output_type": "display_data"
    },
    {
     "name": "stdout",
     "output_type": "stream",
     "text": [
      "\n",
      "Epoch 2 -> Train Loss: 19.2090, ACC: 72.34%\n",
      "Epoch 2 -> Valid ACC: 75.48%\n"
     ]
    },
    {
     "data": {
      "application/vnd.jupyter.widget-view+json": {
       "model_id": "6aa5f29b1335421890784318a894e9fc",
       "version_major": 2,
       "version_minor": 0
      },
      "text/plain": [
       "HBox(children=(IntProgress(value=0, max=693), HTML(value='')))"
      ]
     },
     "metadata": {},
     "output_type": "display_data"
    },
    {
     "name": "stdout",
     "output_type": "stream",
     "text": [
      "\n",
      "Epoch 1 -> Train Loss: 20.2018, ACC: 58.71%\n",
      "Epoch 1 -> Valid ACC: 73.19%\n"
     ]
    },
    {
     "data": {
      "application/vnd.jupyter.widget-view+json": {
       "model_id": "154516771f32413dbc82e179e7e09e88",
       "version_major": 2,
       "version_minor": 0
      },
      "text/plain": [
       "HBox(children=(IntProgress(value=0, max=693), HTML(value='')))"
      ]
     },
     "metadata": {},
     "output_type": "display_data"
    },
    {
     "name": "stdout",
     "output_type": "stream",
     "text": [
      "\n",
      "Epoch 2 -> Train Loss: 19.2236, ACC: 72.61%\n",
      "Epoch 2 -> Valid ACC: 76.31%\n"
     ]
    },
    {
     "data": {
      "application/vnd.jupyter.widget-view+json": {
       "model_id": "91840993a7fb4aefb0d60a84b04693ff",
       "version_major": 2,
       "version_minor": 0
      },
      "text/plain": [
       "HBox(children=(IntProgress(value=0, max=831), HTML(value='')))"
      ]
     },
     "metadata": {},
     "output_type": "display_data"
    },
    {
     "name": "stdout",
     "output_type": "stream",
     "text": [
      "\n",
      "Epoch 1 -> Train Loss: 20.1225, ACC: 59.21%\n",
      "Epoch 1 -> Valid ACC: 74.01%\n"
     ]
    },
    {
     "data": {
      "application/vnd.jupyter.widget-view+json": {
       "model_id": "ba789b5042e24319a1cea0bbc5c13786",
       "version_major": 2,
       "version_minor": 0
      },
      "text/plain": [
       "HBox(children=(IntProgress(value=0, max=831), HTML(value='')))"
      ]
     },
     "metadata": {},
     "output_type": "display_data"
    },
    {
     "name": "stdout",
     "output_type": "stream",
     "text": [
      "\n",
      "Epoch 2 -> Train Loss: 19.1482, ACC: 72.99%\n",
      "Epoch 2 -> Valid ACC: 77.83%\n"
     ]
    }
   ],
   "source": [
    "for fold_, (train_index, val_index) in enumerate(fold):\n",
    "    best_val_acc = 0\n",
    "    ds_train = ImagesDS(train_df_HEPG2.iloc[train_index,:], path_data, None, transforms_train, mode='train')\n",
    "    loader_train = D.DataLoader(ds_train, batch_size=batch_size, shuffle=True, num_workers=4)\n",
    "    ds_valid = ImagesDS(train_df_HEPG2.iloc[val_index,:], path_data, None, transforms_train, mode='train')\n",
    "    loader_valid = D.DataLoader(ds_valid, batch_size=batch_size, shuffle=False, num_workers=4)\n",
    "    \n",
    "    model.load_state_dict(torch.load('../../data/resnext50_am.pth'))\n",
    "\n",
    "    criterion = AMSoftmaxLoss()\n",
    "    optimizer = torch.optim.Adam(model.parameters(), lr=30e-5)\n",
    "\n",
    "    epochs = 2\n",
    "    for epoch in range(epochs):\n",
    "        model.train()\n",
    "        tloss = 0\n",
    "        acc = np.zeros(1)\n",
    "        tlen = len(loader_train)\n",
    "        for data in tqdm.tqdm_notebook(loader_train):\n",
    "            data_input, label = data\n",
    "            data_input = data_input.to(device)\n",
    "            label = label.to(device).long()\n",
    "            output = model(data_input)\n",
    "            loss = criterion(output, label)\n",
    "            tloss += loss.item() \n",
    "            optimizer.zero_grad()\n",
    "            loss.backward()\n",
    "            optimizer.step()\n",
    "            acc += accuracy(output.detach().cpu(), label.cpu())\n",
    "            del loss, output, label, data_input\n",
    "        print('Epoch {} -> Train Loss: {:.4f}, ACC: {:.2f}%'.format(epoch+1, tloss/tlen, acc[0]/tlen))\n",
    "        if epoch > 5:\n",
    "            optimizer.param_groups[0]['lr'] = 15e-5\n",
    "        if epoch > 10:\n",
    "            optimizer.param_groups[0]['lr'] = 7.5e-5\n",
    "        if epoch > 15:\n",
    "            optimizer.param_groups[0]['lr'] = 3e-5\n",
    "        \n",
    "        acc = np.zeros(1)\n",
    "        tlen = len(loader_valid)\n",
    "        model.eval()\n",
    "        for x, y in loader_valid:\n",
    "            x = x.to(device)\n",
    "            output = model(x)\n",
    "            acc += accuracy(output.cpu(), y)\n",
    "            del output, x, y\n",
    "        print('Epoch {} -> Valid ACC: {:.2f}%'.format(epoch+1, acc[0]/tlen))\n",
    "        \n",
    "        if (acc[0]/tlen) > best_val_acc:\n",
    "            torch.save(model.state_dict(), '../../data/resnext50_am_HEPG2_fold{}.pth'.format(fold_))\n",
    "            best_val_acc = acc[0]/tlen"
   ]
  },
  {
   "cell_type": "code",
   "execution_count": 14,
   "metadata": {},
   "outputs": [],
   "source": [
    "train_df = pd.read_csv(path_data+'/train.csv')\n",
    "train_df_U2OS = train_df[train_df['experiment'].isin(['U2OS-01', 'U2OS-02', 'U2OS-03'])]"
   ]
  },
  {
   "cell_type": "code",
   "execution_count": 15,
   "metadata": {},
   "outputs": [],
   "source": [
    "n_folds = 4\n",
    "folds = KFold(n_splits=n_folds, shuffle=True, random_state=0)\n",
    "fold = folds.split(train_df_U2OS, train_df_U2OS['sirna'])"
   ]
  },
  {
   "cell_type": "code",
   "execution_count": 19,
   "metadata": {},
   "outputs": [
    {
     "data": {
      "application/vnd.jupyter.widget-view+json": {
       "model_id": "2bb9e8863d3e4f0ea2a4eab0f093bebe",
       "version_major": 2,
       "version_minor": 0
      },
      "text/plain": [
       "HBox(children=(IntProgress(value=0, max=312), HTML(value='')))"
      ]
     },
     "metadata": {},
     "output_type": "display_data"
    },
    {
     "name": "stdout",
     "output_type": "stream",
     "text": [
      "\n",
      "Epoch 1 -> Train Loss: 21.4369, ACC: 36.33%\n",
      "Epoch 1 -> Valid ACC: 41.71%\n"
     ]
    },
    {
     "data": {
      "application/vnd.jupyter.widget-view+json": {
       "model_id": "75cba16ae1cd4c1eac7a8b998618f255",
       "version_major": 2,
       "version_minor": 0
      },
      "text/plain": [
       "HBox(children=(IntProgress(value=0, max=312), HTML(value='')))"
      ]
     },
     "metadata": {},
     "output_type": "display_data"
    },
    {
     "name": "stdout",
     "output_type": "stream",
     "text": [
      "\n",
      "Epoch 2 -> Train Loss: 60.1029, ACC: 189.41%\n",
      "Epoch 2 -> Valid ACC: 47.04%\n"
     ]
    },
    {
     "data": {
      "application/vnd.jupyter.widget-view+json": {
       "model_id": "0247fa6cf75746c19c4e54289293a881",
       "version_major": 2,
       "version_minor": 0
      },
      "text/plain": [
       "HBox(children=(IntProgress(value=0, max=312), HTML(value='')))"
      ]
     },
     "metadata": {},
     "output_type": "display_data"
    },
    {
     "name": "stdout",
     "output_type": "stream",
     "text": [
      "\n",
      "Epoch 1 -> Train Loss: 21.4393, ACC: 36.45%\n",
      "Epoch 1 -> Valid ACC: 43.42%\n"
     ]
    },
    {
     "data": {
      "application/vnd.jupyter.widget-view+json": {
       "model_id": "cdd857229f6a42619fa3784597b4353e",
       "version_major": 2,
       "version_minor": 0
      },
      "text/plain": [
       "HBox(children=(IntProgress(value=0, max=312), HTML(value='')))"
      ]
     },
     "metadata": {},
     "output_type": "display_data"
    },
    {
     "name": "stdout",
     "output_type": "stream",
     "text": [
      "\n",
      "Epoch 2 -> Train Loss: 60.0716, ACC: 192.33%\n",
      "Epoch 2 -> Valid ACC: 48.97%\n"
     ]
    }
   ],
   "source": [
    "for fold_, (train_index, val_index) in enumerate(fold):\n",
    "    best_val_acc = 0\n",
    "    ds_train = ImagesDS(train_df_U2OS.iloc[train_index,:], path_data, None, transforms_train, mode='train')\n",
    "    loader_train = D.DataLoader(ds_train, batch_size=batch_size, shuffle=True, num_workers=4)\n",
    "    ds_valid = ImagesDS(train_df_U2OS.iloc[val_index,:], path_data, None, transforms_train, mode='train')\n",
    "    loader_valid = D.DataLoader(ds_valid, batch_size=batch_size, shuffle=False, num_workers=4)\n",
    "    \n",
    "    model.load_state_dict(torch.load('../../data/resnext50_am.pth'))\n",
    "\n",
    "    criterion = AMSoftmaxLoss()\n",
    "    optimizer = torch.optim.Adam(model.parameters(), lr=30e-5)\n",
    "\n",
    "    epochs = 2\n",
    "    tlen = len(loader_train)\n",
    "    for epoch in range(epochs):\n",
    "        model.train()\n",
    "        tloss = 0\n",
    "        acc = np.zeros(1)\n",
    "        for data in tqdm.tqdm_notebook(loader_train):\n",
    "            data_input, label = data\n",
    "            data_input = data_input.to(device)\n",
    "            label = label.to(device).long()\n",
    "            output = model(data_input)\n",
    "            loss = criterion(output, label)\n",
    "            tloss += loss.item() \n",
    "            optimizer.zero_grad()\n",
    "            loss.backward()\n",
    "            optimizer.step()\n",
    "            acc += accuracy(output.detach().cpu(), label.cpu())\n",
    "            del loss, output, label, data_input\n",
    "        print('Epoch {} -> Train Loss: {:.4f}, ACC: {:.2f}%'.format(epoch+1, tloss/tlen, acc[0]/tlen))\n",
    "        if epoch > 5:\n",
    "            optimizer.param_groups[0]['lr'] = 15e-5\n",
    "        if epoch > 10:\n",
    "            optimizer.param_groups[0]['lr'] = 7.5e-5\n",
    "        if epoch > 15:\n",
    "            optimizer.param_groups[0]['lr'] = 3e-5\n",
    "        \n",
    "        acc = np.zeros(1)\n",
    "        tlen = len(loader_valid)\n",
    "        model.eval()\n",
    "        for x, y in loader_valid:\n",
    "            x = x.to(device)\n",
    "            output = model(x)\n",
    "            acc += accuracy(output.cpu(), y)\n",
    "            del output, x, y\n",
    "        print('Epoch {} -> Valid ACC: {:.2f}%'.format(epoch+1, acc[0]/tlen))\n",
    "        \n",
    "        if (acc[0]/tlen) > best_val_acc:\n",
    "            torch.save(model.state_dict(), '../../data/resnext50_am_U2OS_fold{}.pth'.format(fold_))\n",
    "            best_val_acc = acc[0]/tlen"
   ]
  },
  {
   "cell_type": "code",
   "execution_count": 20,
   "metadata": {},
   "outputs": [],
   "source": [
    "train_df = pd.read_csv(path_data+'/train.csv')\n",
    "train_df_HUVEC = train_df[train_df['experiment'].isin(['HUVEC-01', 'HUVEC-02', 'HUVEC-03', 'HUVEC-04',\n",
    "                                                     'HUVEC-05', 'HUVEC-06', 'HUVEC-07', 'HUVEC-08',\n",
    "                                                     'HUVEC-09', 'HUVEC-10', 'HUVEC-11', 'HUVEC-12',\n",
    "                                                     'HUVEC-13', 'HUVEC-14', 'HUVEC-15', 'HUVEC-16'])]"
   ]
  },
  {
   "cell_type": "code",
   "execution_count": 21,
   "metadata": {},
   "outputs": [],
   "source": [
    "n_folds = 4\n",
    "folds = StratifiedKFold(n_splits=n_folds, shuffle=True, random_state=0)\n",
    "fold = folds.split(train_df_HUVEC, train_df_HUVEC['sirna'])"
   ]
  },
  {
   "cell_type": "code",
   "execution_count": 22,
   "metadata": {},
   "outputs": [
    {
     "data": {
      "application/vnd.jupyter.widget-view+json": {
       "model_id": "95e5d18eeced4d97ad5c06c644b4f6fc",
       "version_major": 2,
       "version_minor": 0
      },
      "text/plain": [
       "HBox(children=(IntProgress(value=0, max=1657), HTML(value='')))"
      ]
     },
     "metadata": {},
     "output_type": "display_data"
    },
    {
     "name": "stdout",
     "output_type": "stream",
     "text": [
      "\n",
      "Epoch 1 -> Train Loss: 17.1295, ACC: 87.45%\n",
      "Epoch 1 -> Valid ACC: 92.11%\n"
     ]
    },
    {
     "data": {
      "application/vnd.jupyter.widget-view+json": {
       "model_id": "b93f6d29813a482db4a891185ae5e541",
       "version_major": 2,
       "version_minor": 0
      },
      "text/plain": [
       "HBox(children=(IntProgress(value=0, max=1657), HTML(value='')))"
      ]
     },
     "metadata": {},
     "output_type": "display_data"
    },
    {
     "ename": "KeyboardInterrupt",
     "evalue": "",
     "output_type": "error",
     "traceback": [
      "\u001b[0;31m---------------------------------------------------------------------------\u001b[0m",
      "\u001b[0;31mKeyboardInterrupt\u001b[0m                         Traceback (most recent call last)",
      "\u001b[0;32m<ipython-input-22-b72b80ed1a72>\u001b[0m in \u001b[0;36m<module>\u001b[0;34m\u001b[0m\n\u001b[1;32m     25\u001b[0m             \u001b[0mtloss\u001b[0m \u001b[0;34m+=\u001b[0m \u001b[0mloss\u001b[0m\u001b[0;34m.\u001b[0m\u001b[0mitem\u001b[0m\u001b[0;34m(\u001b[0m\u001b[0;34m)\u001b[0m\u001b[0;34m\u001b[0m\u001b[0;34m\u001b[0m\u001b[0m\n\u001b[1;32m     26\u001b[0m             \u001b[0moptimizer\u001b[0m\u001b[0;34m.\u001b[0m\u001b[0mzero_grad\u001b[0m\u001b[0;34m(\u001b[0m\u001b[0;34m)\u001b[0m\u001b[0;34m\u001b[0m\u001b[0;34m\u001b[0m\u001b[0m\n\u001b[0;32m---> 27\u001b[0;31m             \u001b[0mloss\u001b[0m\u001b[0;34m.\u001b[0m\u001b[0mbackward\u001b[0m\u001b[0;34m(\u001b[0m\u001b[0;34m)\u001b[0m\u001b[0;34m\u001b[0m\u001b[0;34m\u001b[0m\u001b[0m\n\u001b[0m\u001b[1;32m     28\u001b[0m             \u001b[0moptimizer\u001b[0m\u001b[0;34m.\u001b[0m\u001b[0mstep\u001b[0m\u001b[0;34m(\u001b[0m\u001b[0;34m)\u001b[0m\u001b[0;34m\u001b[0m\u001b[0;34m\u001b[0m\u001b[0m\n\u001b[1;32m     29\u001b[0m             \u001b[0macc\u001b[0m \u001b[0;34m+=\u001b[0m \u001b[0maccuracy\u001b[0m\u001b[0;34m(\u001b[0m\u001b[0moutput\u001b[0m\u001b[0;34m.\u001b[0m\u001b[0mdetach\u001b[0m\u001b[0;34m(\u001b[0m\u001b[0;34m)\u001b[0m\u001b[0;34m.\u001b[0m\u001b[0mcpu\u001b[0m\u001b[0;34m(\u001b[0m\u001b[0;34m)\u001b[0m\u001b[0;34m,\u001b[0m \u001b[0mlabel\u001b[0m\u001b[0;34m.\u001b[0m\u001b[0mcpu\u001b[0m\u001b[0;34m(\u001b[0m\u001b[0;34m)\u001b[0m\u001b[0;34m)\u001b[0m\u001b[0;34m\u001b[0m\u001b[0;34m\u001b[0m\u001b[0m\n",
      "\u001b[0;32m~/Projects/Learning/untitled/venv/lib/python3.7/site-packages/torch/tensor.py\u001b[0m in \u001b[0;36mbackward\u001b[0;34m(self, gradient, retain_graph, create_graph)\u001b[0m\n\u001b[1;32m    105\u001b[0m                 \u001b[0mproducts\u001b[0m\u001b[0;34m.\u001b[0m \u001b[0mDefaults\u001b[0m \u001b[0mto\u001b[0m\u001b[0;31m \u001b[0m\u001b[0;31m`\u001b[0m\u001b[0;31m`\u001b[0m\u001b[0;32mFalse\u001b[0m\u001b[0;31m`\u001b[0m\u001b[0;31m`\u001b[0m\u001b[0;34m.\u001b[0m\u001b[0;34m\u001b[0m\u001b[0;34m\u001b[0m\u001b[0m\n\u001b[1;32m    106\u001b[0m         \"\"\"\n\u001b[0;32m--> 107\u001b[0;31m         \u001b[0mtorch\u001b[0m\u001b[0;34m.\u001b[0m\u001b[0mautograd\u001b[0m\u001b[0;34m.\u001b[0m\u001b[0mbackward\u001b[0m\u001b[0;34m(\u001b[0m\u001b[0mself\u001b[0m\u001b[0;34m,\u001b[0m \u001b[0mgradient\u001b[0m\u001b[0;34m,\u001b[0m \u001b[0mretain_graph\u001b[0m\u001b[0;34m,\u001b[0m \u001b[0mcreate_graph\u001b[0m\u001b[0;34m)\u001b[0m\u001b[0;34m\u001b[0m\u001b[0;34m\u001b[0m\u001b[0m\n\u001b[0m\u001b[1;32m    108\u001b[0m \u001b[0;34m\u001b[0m\u001b[0m\n\u001b[1;32m    109\u001b[0m     \u001b[0;32mdef\u001b[0m \u001b[0mregister_hook\u001b[0m\u001b[0;34m(\u001b[0m\u001b[0mself\u001b[0m\u001b[0;34m,\u001b[0m \u001b[0mhook\u001b[0m\u001b[0;34m)\u001b[0m\u001b[0;34m:\u001b[0m\u001b[0;34m\u001b[0m\u001b[0;34m\u001b[0m\u001b[0m\n",
      "\u001b[0;32m~/Projects/Learning/untitled/venv/lib/python3.7/site-packages/torch/autograd/__init__.py\u001b[0m in \u001b[0;36mbackward\u001b[0;34m(tensors, grad_tensors, retain_graph, create_graph, grad_variables)\u001b[0m\n\u001b[1;32m     91\u001b[0m     Variable._execution_engine.run_backward(\n\u001b[1;32m     92\u001b[0m         \u001b[0mtensors\u001b[0m\u001b[0;34m,\u001b[0m \u001b[0mgrad_tensors\u001b[0m\u001b[0;34m,\u001b[0m \u001b[0mretain_graph\u001b[0m\u001b[0;34m,\u001b[0m \u001b[0mcreate_graph\u001b[0m\u001b[0;34m,\u001b[0m\u001b[0;34m\u001b[0m\u001b[0;34m\u001b[0m\u001b[0m\n\u001b[0;32m---> 93\u001b[0;31m         allow_unreachable=True)  # allow_unreachable flag\n\u001b[0m\u001b[1;32m     94\u001b[0m \u001b[0;34m\u001b[0m\u001b[0m\n\u001b[1;32m     95\u001b[0m \u001b[0;34m\u001b[0m\u001b[0m\n",
      "\u001b[0;31mKeyboardInterrupt\u001b[0m: "
     ]
    }
   ],
   "source": [
    "for fold_, (train_index, val_index) in enumerate(fold):\n",
    "    best_val_acc = 0\n",
    "    ds_train = ImagesDS(train_df_HUVEC.iloc[train_index,:], path_data, None, transforms_train, mode='train')\n",
    "    loader_train = D.DataLoader(ds_train, batch_size=batch_size, shuffle=True, num_workers=4)\n",
    "    ds_valid = ImagesDS(train_df_HUVEC.iloc[val_index,:], path_data, None, transforms_train, mode='train')\n",
    "    loader_valid = D.DataLoader(ds_valid, batch_size=batch_size, shuffle=False, num_workers=4)\n",
    "    \n",
    "    model.load_state_dict(torch.load('../../data/resnext50_am.pth'))\n",
    "\n",
    "    criterion = AMSoftmaxLoss()\n",
    "    optimizer = torch.optim.Adam(model.parameters(), lr=30e-5)\n",
    "\n",
    "    epochs = 20\n",
    "    for epoch in range(epochs):\n",
    "        model.train()\n",
    "        tloss = 0\n",
    "        acc = np.zeros(1)\n",
    "        tlen = len(loader_train)\n",
    "        for data in tqdm.tqdm_notebook(loader_train):\n",
    "            data_input, label = data\n",
    "            data_input = data_input.to(device)\n",
    "            label = label.to(device).long()\n",
    "            output = model(data_input)\n",
    "            loss = criterion(output, label)\n",
    "            tloss += loss.item() \n",
    "            optimizer.zero_grad()\n",
    "            loss.backward()\n",
    "            optimizer.step()\n",
    "            acc += accuracy(output.detach().cpu(), label.cpu())\n",
    "            del loss, output, label, data_input\n",
    "        print('Epoch {} -> Train Loss: {:.4f}, ACC: {:.2f}%'.format(epoch+1, tloss/tlen, acc[0]/tlen))\n",
    "        if epoch > 5:\n",
    "            optimizer.param_groups[0]['lr'] = 15e-5\n",
    "        if epoch > 10:\n",
    "            optimizer.param_groups[0]['lr'] = 7.5e-5\n",
    "        if epoch > 15:\n",
    "            optimizer.param_groups[0]['lr'] = 3e-5\n",
    "        \n",
    "        acc = np.zeros(1)\n",
    "        tlen = len(loader_valid)\n",
    "        model.eval()\n",
    "        for x, y in loader_valid:\n",
    "            x = x.to(device)\n",
    "            output = model(x)\n",
    "            acc += accuracy(output.cpu(), y)\n",
    "            del output, x, y\n",
    "        print('Epoch {} -> Valid ACC: {:.2f}%'.format(epoch+1, acc[0]/tlen))\n",
    "        \n",
    "        if (acc[0]/tlen) > best_val_acc:\n",
    "            torch.save(model.state_dict(), '../../data/resnext50_am_HUVEC_fold{}.pth'.format(fold_))\n",
    "            best_val_acc = acc[0]/tlen"
   ]
  },
  {
   "cell_type": "code",
   "execution_count": null,
   "metadata": {},
   "outputs": [],
   "source": [
    "train_df = pd.read_csv(path_data+'/train.csv')\n",
    "train_df_RPE = train_df[train_df['experiment'].isin(['RPE-01', 'RPE-02', 'RPE-03', 'RPE-04',\n",
    "                                                     'RPE-05', 'RPE-06', 'RPE-07'])]"
   ]
  },
  {
   "cell_type": "code",
   "execution_count": null,
   "metadata": {},
   "outputs": [],
   "source": [
    "n_folds = 4\n",
    "folds = StratifiedKFold(n_splits=n_folds, shuffle=True, random_state=0)\n",
    "fold = folds.split(train_df_RPE, train_df_RPE['sirna'])"
   ]
  },
  {
   "cell_type": "code",
   "execution_count": null,
   "metadata": {},
   "outputs": [],
   "source": [
    "for fold_, (train_index, val_index) in enumerate(fold):\n",
    "    best_val_acc = 0\n",
    "    ds_train = ImagesDS(train_df_RPE.iloc[train_index,:], path_data, None, transforms_train, mode='train')\n",
    "    loader_train = D.DataLoader(ds_train, batch_size=batch_size, shuffle=True, num_workers=4)\n",
    "    ds_valid = ImagesDS(train_df_RPE.iloc[val_index,:], path_data, None, transforms_train, mode='train')\n",
    "    loader_valid = D.DataLoader(ds_valid, batch_size=batch_size, shuffle=False, num_workers=4)\n",
    "    \n",
    "    model.load_state_dict(torch.load('../../data/resnext50_am.pth'))\n",
    "\n",
    "    criterion = AMSoftmaxLoss()\n",
    "    optimizer = torch.optim.Adam(model.parameters(), lr=30e-5)\n",
    "\n",
    "    epochs = 20\n",
    "    for epoch in range(epochs):\n",
    "        model.train()\n",
    "        tloss = 0\n",
    "        acc = np.zeros(1)\n",
    "        tlen = len(loader_train)\n",
    "        for data in tqdm.tqdm_notebook(loader_train):\n",
    "            data_input, label = data\n",
    "            data_input = data_input.to(device)\n",
    "            label = label.to(device).long()\n",
    "            output = model(data_input)\n",
    "            loss = criterion(output, label)\n",
    "            tloss += loss.item() \n",
    "            optimizer.zero_grad()\n",
    "            loss.backward()\n",
    "            optimizer.step()\n",
    "            acc += accuracy(output.detach().cpu(), label.cpu())\n",
    "            del loss, output, label, data_input\n",
    "        print('Epoch {} -> Train Loss: {:.4f}, ACC: {:.2f}%'.format(epoch+1, tloss/tlen, acc[0]/tlen))\n",
    "        if epoch > 5:\n",
    "            optimizer.param_groups[0]['lr'] = 15e-5\n",
    "        if epoch > 10:\n",
    "            optimizer.param_groups[0]['lr'] = 7.5e-5\n",
    "        if epoch > 15:\n",
    "            optimizer.param_groups[0]['lr'] = 3e-5\n",
    "        \n",
    "        acc = np.zeros(1)\n",
    "        tlen = len(loader_valid)\n",
    "        model.eval()\n",
    "        for x, y in loader_valid:\n",
    "            x = x.to(device)\n",
    "            output = model(x)\n",
    "            acc += accuracy(output.cpu(), y)\n",
    "            del output, x, y\n",
    "        print('Epoch {} -> Valid ACC: {:.2f}%'.format(epoch+1, acc[0]/tlen))\n",
    "        \n",
    "        if (acc[0]/tlen) > best_val_acc:\n",
    "            torch.save(model.state_dict(), '../../data/resnext50_am_RPE_fold{}.pth'.format(fold_))\n",
    "            best_val_acc = acc[0]/tlen"
   ]
  },
  {
   "cell_type": "code",
   "execution_count": null,
   "metadata": {},
   "outputs": [],
   "source": []
  },
  {
   "cell_type": "code",
   "execution_count": null,
   "metadata": {},
   "outputs": [],
   "source": []
  },
  {
   "cell_type": "code",
   "execution_count": 18,
   "metadata": {},
   "outputs": [],
   "source": [
    "tds = ImagesDS(pd.read_csv(path_data+'/test.csv'), path_data, 2, transforms_test, mode='test')\n",
    "tloader = D.DataLoader(tds, batch_size=batch_size, shuffle=False, num_workers=8)"
   ]
  },
  {
   "cell_type": "code",
   "execution_count": 19,
   "metadata": {},
   "outputs": [],
   "source": [
    "model.eval()\n",
    "\n",
    "@torch.no_grad()\n",
    "def prediction(model, loader):\n",
    "    outputs = []\n",
    "    preds = np.empty(0)\n",
    "    for x, _ in loader: \n",
    "        x = x.to(device)\n",
    "        output = model(x)\n",
    "        outputs.append(output)\n",
    "        idx = output.max(dim=-1)[1].cpu().numpy()\n",
    "        preds = np.append(preds, idx, axis=0)\n",
    "    return preds, outputs\n",
    "\n",
    "preds1, outputs2 = prediction(model, tloader)"
   ]
  },
  {
   "cell_type": "code",
   "execution_count": 20,
   "metadata": {},
   "outputs": [],
   "source": [
    "preds = ((torch.cat(outputs1)+torch.cat(outputs2)) / 2.).max(dim=-1)[1].cpu().numpy()"
   ]
  },
  {
   "cell_type": "code",
   "execution_count": 21,
   "metadata": {},
   "outputs": [],
   "source": [
    "submission = pd.read_csv(path_data + '/test.csv')\n",
    "submission['sirna'] = preds.astype(int)\n",
    "submission.to_csv('submission.csv', index=False, columns=['id_code','sirna'])"
   ]
  },
  {
   "cell_type": "code",
   "execution_count": null,
   "metadata": {},
   "outputs": [],
   "source": []
  },
  {
   "cell_type": "code",
   "execution_count": null,
   "metadata": {},
   "outputs": [],
   "source": []
  },
  {
   "cell_type": "code",
   "execution_count": null,
   "metadata": {},
   "outputs": [],
   "source": []
  },
  {
   "cell_type": "code",
   "execution_count": 8,
   "metadata": {},
   "outputs": [],
   "source": [
    "import math\n",
    "import random\n",
    "\n",
    "import torch\n",
    "import torch.nn as nn\n",
    "import torch.nn.functional as F\n",
    "from torch.nn import Parameter\n",
    "\n",
    "\n",
    "def accuracy(output, target, topk=(1,)):\n",
    "    \"\"\"Computes the precision@k for the specified values of k\"\"\"\n",
    "    maxk = max(topk)\n",
    "    batch_size = target.size(0)\n",
    "\n",
    "    _, pred = output.topk(maxk, 1, True, True)\n",
    "    pred    = pred.t()\n",
    "    correct = pred.eq(target.view(1, -1).expand_as(pred))\n",
    "\n",
    "    res = []\n",
    "    for k in topk:\n",
    "        correct_k = correct[:k].view(-1).float().sum(0)\n",
    "        res.append(correct_k.mul_(100.0 / batch_size))\n",
    "\n",
    "    return res\n",
    "\n",
    "\n",
    "class AngleSimpleLinear(nn.Module):\n",
    "    \"\"\"Computes cos of angles between input vectors and weights vectors\"\"\"\n",
    "    def __init__(self, in_features, out_features):\n",
    "        super(AngleSimpleLinear, self).__init__()\n",
    "        self.in_features = in_features\n",
    "        self.out_features = out_features\n",
    "        self.weight = Parameter(torch.Tensor(in_features, out_features))\n",
    "        self.weight.data.uniform_(-1, 1).renorm_(2, 1, 1e-5).mul_(1e5)\n",
    "\n",
    "    def forward(self, x):\n",
    "        cos_theta = F.normalize(x, dim=1).mm(F.normalize(self.weight, dim=0))\n",
    "        return cos_theta.clamp(-1, 1)\n",
    "\n",
    "\n",
    "def focal_loss(input_values, gamma):\n",
    "    \"\"\"Computes the focal loss\"\"\"\n",
    "    p = torch.exp(-input_values)\n",
    "    loss = (1 - p) ** gamma * input_values\n",
    "    return loss.mean()\n",
    "\n",
    "\n",
    "class AMSoftmaxLoss(nn.Module):\n",
    "    \"\"\"Computes the AM-Softmax loss with cos or arc margin\"\"\"\n",
    "    margin_types = ['cos', 'arc']\n",
    "\n",
    "    def __init__(self, margin_type='cos', gamma=2., m=0.5, s=30, t=1.2):\n",
    "        super(AMSoftmaxLoss, self).__init__()\n",
    "        assert margin_type in AMSoftmaxLoss.margin_types\n",
    "        self.margin_type = margin_type\n",
    "        assert gamma >= 0\n",
    "        self.gamma = gamma\n",
    "        assert m > 0\n",
    "        self.m = m\n",
    "        assert s > 0\n",
    "        self.s = s\n",
    "        self.cos_m = math.cos(m)\n",
    "        self.sin_m = math.sin(m)\n",
    "        self.th = math.cos(math.pi - m)\n",
    "        assert t >= 1\n",
    "        self.t = t\n",
    "\n",
    "    def forward(self, cos_theta, target):\n",
    "        if self.margin_type == 'cos':\n",
    "            phi_theta = cos_theta - self.m\n",
    "        else:\n",
    "            sine = torch.sqrt(1.0 - torch.pow(cos_theta, 2))\n",
    "            phi_theta = cos_theta * self.cos_m - sine * self.sin_m #cos(theta+m)\n",
    "            phi_theta = torch.where(cos_theta > self.th, phi_theta, cos_theta - self.sin_m * self.m)\n",
    "\n",
    "        index = torch.zeros_like(cos_theta, dtype=torch.uint8)\n",
    "        index.scatter_(1, target.data.view(-1, 1), 1)\n",
    "        output = torch.where(index, phi_theta, cos_theta)\n",
    "\n",
    "        if self.gamma == 0 and self.t == 1.:\n",
    "            return F.cross_entropy(self.s*output, target)\n",
    "\n",
    "        if self.t > 1:\n",
    "            h_theta = self.t - 1 + self.t*cos_theta\n",
    "            support_vecs_mask = (1 - index) * \\\n",
    "                torch.lt(torch.masked_select(phi_theta, index).view(-1, 1).repeat(1, h_theta.shape[1]) - cos_theta, 0)\n",
    "            output = torch.where(support_vecs_mask, h_theta, output)\n",
    "            return F.cross_entropy(self.s*output, target)\n",
    "\n",
    "        return focal_loss(F.cross_entropy(self.s*output, target, reduction='none'), self.gamma)"
   ]
  },
  {
   "cell_type": "code",
   "execution_count": null,
   "metadata": {},
   "outputs": [],
   "source": []
  }
 ],
 "metadata": {
  "kernelspec": {
   "display_name": "PyCharm (untitled)",
   "language": "python",
   "name": "pycharm-6fa63235"
  },
  "language_info": {
   "codemirror_mode": {
    "name": "ipython",
    "version": 3
   },
   "file_extension": ".py",
   "mimetype": "text/x-python",
   "name": "python",
   "nbconvert_exporter": "python",
   "pygments_lexer": "ipython3",
   "version": "3.7.3"
  }
 },
 "nbformat": 4,
 "nbformat_minor": 2
}
